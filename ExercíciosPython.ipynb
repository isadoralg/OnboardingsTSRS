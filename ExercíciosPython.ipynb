{
  "nbformat": 4,
  "nbformat_minor": 0,
  "metadata": {
    "colab": {
      "name": "end - exspython.ipynb",
      "provenance": [],
      "collapsed_sections": []
    },
    "kernelspec": {
      "name": "python3",
      "display_name": "Python 3"
    }
  },
  "cells": [
    {
      "cell_type": "markdown",
      "metadata": {
        "id": "8eCMq1iSebXE",
        "colab_type": "text"
      },
      "source": [
        "1. Create a program that asks the user to enter their name and their age. Print out a message addressed to them that tells them the year that they will turn 100 years old.\n",
        "> Extras:\n",
        "- Add on to the previous program by asking the user for another number and printing out that many copies of the previous message. (Hint: order of operations exists in Python)\n",
        "- Print out that many copies of the previous message on separate lines. (Hint: the string \"\\n is the same as pressing the ENTER button)"
      ]
    },
    {
      "cell_type": "code",
      "metadata": {
        "id": "wXvSwS-Zes2M",
        "colab_type": "code",
        "colab": {}
      },
      "source": [
        "nome = str(input(\"Qual seu nome? \" ))\n",
        "idade = int(input(\"Qual sua idade? \"))\n",
        "i = 0\n",
        "ano = int(input(\"Qual o ano atual? \"))\n",
        "i = 100 - idade\n",
        "x = int(input(\"Insira um número qualquer: \"))\n",
        "n = 0\n",
        "while(n < x):\n",
        "  print(ano + i)\n",
        "  #print(\"\\n\")\n",
        "  n = n + 1"
      ],
      "execution_count": 0,
      "outputs": []
    },
    {
      "cell_type": "markdown",
      "metadata": {
        "id": "Zr_M8Xb2hhbG",
        "colab_type": "text"
      },
      "source": [
        "2. Ask the user for a number. Depending on whether the number is even or odd, print out an appropriate message to the user. Hint: how does an even / odd number react differently when divided by 2?\n",
        "> Extras:\n",
        "- If the number is a multiple of 4, print out a different message.\n",
        "- Ask the user for two numbers: one number to check (call it num) and one number to divide by (check). If check divides evenly into num, tell that to the user. If not, print a different appropriate message."
      ]
    },
    {
      "cell_type": "code",
      "metadata": {
        "id": "wuEiujlxh9j7",
        "colab_type": "code",
        "colab": {}
      },
      "source": [
        "i = int(input(\"Digite um número: \"))\n",
        "a = i % 2\n",
        "if(a == 0):\n",
        "  if(i % 4 == 0):\n",
        "    print(\"Múltiplo de 4\") # extra PH\n",
        "  else:\n",
        "      print(\"Número par\")\n",
        "else:\n",
        "        print(\"Número ímpar\")"
      ],
      "execution_count": 0,
      "outputs": []
    },
    {
      "cell_type": "code",
      "metadata": {
        "id": "ODwljPVdj-9t",
        "colab_type": "code",
        "colab": {}
      },
      "source": [
        "# extra 2\n",
        "num = int(input(\"Digite um número: \"))\n",
        "check = int(input(\"Digite um número para divisão: \"))\n",
        "a = num % check\n",
        "if(a == 0):\n",
        "  print(\"O resto da divisão é 0\")\n",
        "else:\n",
        "  print(\"O resto da divisão não é zero\")"
      ],
      "execution_count": 0,
      "outputs": []
    },
    {
      "cell_type": "markdown",
      "metadata": {
        "id": "27CL9U9XjVzy",
        "colab_type": "text"
      },
      "source": [
        "3. Take a list, say for example this one below, and write a program that prints out all the elements of the list that are less than 5.\n",
        "- a = [1, 1, 2, 3, 5, 8, 13, 21, 34, 55, 89]\n",
        "> Extras:\n",
        "- Instead of printing the elements one by one, make a new list that has all the elements less than 5 from this list in it and print out this new list.\n",
        "- Write this in one line of Python.\n",
        "- Ask the user for a number and return a list that contains only elements from the original list a that are smaller than that number given by the user.\n"
      ]
    },
    {
      "cell_type": "code",
      "metadata": {
        "id": "Pn4wmcNUj8Tc",
        "colab_type": "code",
        "colab": {}
      },
      "source": [
        "a = [1, 1, 2, 3, 5, 8, 13, 21, 34, 55, 89]\n",
        "print(\"Menores que 5: \")\n",
        "for x in a:\n",
        "  if(x < 5):\n",
        "    print(x)"
      ],
      "execution_count": 0,
      "outputs": []
    },
    {
      "cell_type": "code",
      "metadata": {
        "id": "YDX4Ufh4yGOi",
        "colab_type": "code",
        "colab": {}
      },
      "source": [
        "# extra\n",
        "a = [1, 1, 2, 3, 5, 8, 13, 21, 34, 55, 89]\n",
        "print(\"Menores que 5: \")\n",
        "for x in a:\n",
        "  if(x < 5):\n",
        "    print(x, end=\" \")"
      ],
      "execution_count": 0,
      "outputs": []
    },
    {
      "cell_type": "code",
      "metadata": {
        "id": "VXhruyoa3AqD",
        "colab_type": "code",
        "colab": {}
      },
      "source": [
        "# extra 2\n",
        "a = [1, 1, 2, 3, 5, 8, 13, 21, 34, 55, 89]\n",
        "b = int(input(\"Digite um número: \"))\n",
        "print(\"Menores que o número escolhido: \")\n",
        "for x in a:\n",
        "  if(x < b):\n",
        "    print(x, end=\" \")\n",
        "#  if(x > b):\n",
        "#    print(\"Não há esse número na lista original\")"
      ],
      "execution_count": 0,
      "outputs": []
    },
    {
      "cell_type": "markdown",
      "metadata": {
        "id": "xb7su7pM4Uhv",
        "colab_type": "text"
      },
      "source": [
        "4. Take two lists, say for example these two below, and write a program that returns a list that contains only the elements that are common between the lists (without duplicates). Make sure your program works on two lists of different sizes.\n",
        "- a = [1, 1, 2, 3, 5, 8, 13, 21, 34, 55, 89]\n",
        "- b = [1, 2, 3, 4, 5, 6, 7, 8, 9, 10, 11, 12, 13]\n",
        "\n",
        "> Extras:\n",
        "\n",
        "- Randomly generate two lists to test this\n",
        "- Write this in one line of Python (don’t worry if you can’t figure this out at this point - we’ll get to it soon)\n"
      ]
    },
    {
      "cell_type": "code",
      "metadata": {
        "id": "wV-OGlfN44X_",
        "colab_type": "code",
        "colab": {}
      },
      "source": [
        "a = [1, 1, 2, 3, 5, 8, 13, 21, 34, 55, 89]\n",
        "b = [1, 2, 3, 4, 5, 6, 7, 8, 9, 10, 11, 12, 13]\n",
        "c = []\n",
        "\n",
        "for x in a:\n",
        "    for y in b:\n",
        "        if(x == y):\n",
        "            c.append(y)\n",
        "print(c)"
      ],
      "execution_count": 0,
      "outputs": []
    },
    {
      "cell_type": "code",
      "metadata": {
        "id": "BEZYghSAxsPQ",
        "colab_type": "code",
        "colab": {}
      },
      "source": [
        "# extra\n",
        "import random\n",
        "a = [random.randrange(1, 50, 1) for i in range(7)]\n",
        "b = [random.randrange(1, 100, 1) for i in range(7)]\n",
        "c = []\n",
        "\n",
        "for x in a:\n",
        "    for y in b:\n",
        "        if(x == y):\n",
        "            c.append(y)\n",
        "print(c)"
      ],
      "execution_count": 0,
      "outputs": []
    },
    {
      "cell_type": "markdown",
      "metadata": {
        "id": "OeiHxhiN46ZG",
        "colab_type": "text"
      },
      "source": [
        "5. Generate a random number between 1 and 9 (including 1 and 9). Ask the user to guess the number, then tell them whether they guessed too low, too high, or exactly right. (Hint: remember to use the user input lessons from the very first exercise)\n",
        "> Extras:\n",
        "- Keep the game going until the user types “exit”\n",
        "- Keep track of how many guesses the user has taken, and when the game ends, print this out.\n"
      ]
    },
    {
      "cell_type": "code",
      "metadata": {
        "id": "bRF5XxBx5BV2",
        "colab_type": "code",
        "colab": {}
      },
      "source": [
        "import random\n",
        "a = random.randint(1, 9)\n",
        "c = \"batata\"\n",
        "d = 0\n",
        "while c != \"exit\":\n",
        "    b = int(input(\"Adivinhe o número gerado: \"))\n",
        "    if(b > a):\n",
        "        print(\"Muito alto, tente novamente ou digite 'exit' para sair \\n\")\n",
        "    elif(b < a):\n",
        "        print(\"Muito baixo, tente novamente ou digite 'exit' para sair \\n\")\n",
        "        d = d+1\n",
        "    else:\n",
        "        print(\"Acertou! \\n \")\n",
        "        d = d+1\n",
        "        print(\"Levou\", d,\"tentativas\")\n",
        "        c = \"exit\""
      ],
      "execution_count": 0,
      "outputs": []
    }
  ]
}